{
 "cells": [
  {
   "cell_type": "code",
   "execution_count": null,
   "id": "studied-mortality",
   "metadata": {},
   "outputs": [],
   "source": [
    "import torch\n",
    "import torchvision\n",
    "import torch.nn as nn\n",
    "import torch.optim as optim\n",
    "import numpy as np\n",
    "from torchvision import datasets, models, transforms\n",
    "import matplotlib.pyplot as plt\n",
    "import os"
   ]
  },
  {
   "cell_type": "code",
   "execution_count": null,
   "id": "finnish-server",
   "metadata": {},
   "outputs": [],
   "source": [
    "# define image directory\n",
    "IMG_DIR = 'zappos_dataset'"
   ]
  },
  {
   "cell_type": "code",
   "execution_count": null,
   "id": "governing-regard",
   "metadata": {},
   "outputs": [],
   "source": [
    "# we resize our images, and normalize them\n",
    "data_transforms = transforms.Compose([\n",
    "    transforms.ToTensor(),\n",
    "    transforms.Resize((224,224)),\n",
    "    transforms.Normalize([0.485, 0.456, 0.406], [0.229, 0.224, 0.225])\n",
    "])\n",
    "\n",
    "data = datasets.ImageFolder(IMG_DIR, data_transforms)"
   ]
  },
  {
   "cell_type": "code",
   "execution_count": null,
   "id": "confidential-bridge",
   "metadata": {},
   "outputs": [],
   "source": [
    "# get dataset size\n",
    "num_img = len(data)"
   ]
  },
  {
   "cell_type": "code",
   "execution_count": null,
   "id": "saving-toddler",
   "metadata": {},
   "outputs": [],
   "source": [
    "# we divide our dataset in train and test\n",
    "train_data, test_data = torch.utils.data.random_split(data, [int(num_img*0.8), num_img-int(num_img*0.8)])"
   ]
  },
  {
   "cell_type": "code",
   "execution_count": null,
   "id": "attractive-motivation",
   "metadata": {},
   "outputs": [],
   "source": [
    "display(len(train_data), len(test_data))"
   ]
  },
  {
   "cell_type": "code",
   "execution_count": null,
   "id": "least-college",
   "metadata": {},
   "outputs": [],
   "source": [
    "# create dataloader to feed our network with batchsize 20. For windows users, Olé :) , set num_workers to 0\n",
    "train_loader = torch.utils.data.DataLoader(train_data, batch_size=20, shuffle=True, num_workers=4)\n",
    "\n",
    "test_loader = torch.utils.data.DataLoader(test_data, batch_size=20, shuffle=False, num_workers=4)"
   ]
  },
  {
   "cell_type": "code",
   "execution_count": null,
   "id": "optimum-fleece",
   "metadata": {},
   "outputs": [],
   "source": [
    "# associate numbers (0..3) to class names\n",
    "class_names = {x: data.classes[x] for x in range(4)}"
   ]
  },
  {
   "cell_type": "code",
   "execution_count": null,
   "id": "primary-billion",
   "metadata": {},
   "outputs": [],
   "source": [
    "def imshow(inp, title=None):\n",
    "    \"\"\"Pour visualiser les images.\"\"\"\n",
    "    inp = inp.numpy().transpose((1, 2, 0))\n",
    "    mean = np.array([0.485, 0.456, 0.406])\n",
    "    std = np.array([0.229, 0.224, 0.225])\n",
    "    inp = std * inp + mean\n",
    "    inp = np.clip(inp, 0, 1)\n",
    "    plt.imshow(inp)\n",
    "    if title is not None:\n",
    "        plt.title(title)\n",
    "    plt.pause(0.001)  \n",
    "\n",
    "\n",
    "# Get batch, to visualize images and classes\n",
    "inputs, classes = next(iter(train_loader))\n",
    "\n",
    "# Visualize images and corresponding classes\n",
    "out = torchvision.utils.make_grid(inputs)\n",
    "\n",
    "imshow(out, title=[class_names[x.item()] for x in classes])"
   ]
  },
  {
   "cell_type": "code",
   "execution_count": null,
   "id": "planned-engineer",
   "metadata": {},
   "outputs": [],
   "source": [
    "# define model and freeze vgg16 parameters\n",
    "model = models.vgg16(pretrained=True)\n",
    "for param in model.parameters():\n",
    "    param.requires_grad = False"
   ]
  },
  {
   "cell_type": "code",
   "execution_count": null,
   "id": "brown-discharge",
   "metadata": {},
   "outputs": [],
   "source": [
    "class ZapposModel(nn.Module):\n",
    "    \"\"\" Define our own model based on vgg16 model \"\"\"\n",
    "    def __init__(self, new_model):\n",
    "        \"\"\" Create network with vgg16 featues extractor and avgpool, and adding our own classifier \"\"\"\n",
    "        super(ZapposModel, self).__init__()\n",
    "        self.features = new_model.features\n",
    "        self.avgpool = new_model.avgpool\n",
    "        self.classifier = nn.Sequential(\n",
    "            nn.Flatten(),\n",
    "            nn.Linear(25088, 2048),\n",
    "            nn.ReLU(inplace=True),\n",
    "            nn.Dropout(p=0.5, inplace=False),\n",
    "            nn.Linear(2048, 4)\n",
    "        )\n",
    "\n",
    "    def forward(self, x):\n",
    "        \"\"\" Forwarding pass \"\"\"\n",
    "        x = self.features(x)\n",
    "        x = self.avgpool(x)\n",
    "        x = self.classifier(x)\n",
    "        return x"
   ]
  },
  {
   "cell_type": "code",
   "execution_count": null,
   "id": "exciting-career",
   "metadata": {},
   "outputs": [],
   "source": [
    "# putting model on GPU, if gpu available, instantiate our model\n",
    "device = torch.device(\"cuda:0\" if torch.cuda.is_available() else \"cpu\")\n",
    "net = ZapposModel(model)\n",
    "net.to(device)"
   ]
  },
  {
   "cell_type": "code",
   "execution_count": null,
   "id": "compatible-tuner",
   "metadata": {},
   "outputs": [],
   "source": [
    "# we use cross entropy for loss\n",
    "criterion = nn.CrossEntropyLoss()\n",
    "\n",
    "# we update only our classifier parameters with stochastic gradient descent\n",
    "optimizer = optim.SGD(net.classifier.parameters(), lr=0.001, momentum=0.9)"
   ]
  },
  {
   "cell_type": "code",
   "execution_count": null,
   "id": "mineral-eight",
   "metadata": {},
   "outputs": [],
   "source": [
    "# train step\n",
    "epochs = 1\n",
    "\n",
    "len_train_data = len(train_loader)\n",
    "len_test_data = len(test_loader)\n",
    "\n",
    "for epoch in range(epochs):\n",
    "    \n",
    "    net.train()\n",
    "\n",
    "    running_loss = 0.0\n",
    "    for i, data in enumerate(train_loader):\n",
    "\n",
    "        inputs, labels = data[0].to(device), data[1].to(device)\n",
    "\n",
    "        optimizer.zero_grad()\n",
    "\n",
    "        # forward + backward + optimize\n",
    "        outputs = net(inputs)\n",
    "        loss = criterion(outputs, labels)\n",
    "        loss.backward()\n",
    "        optimizer.step()\n",
    "\n",
    "        running_loss += loss.item()\n",
    "        if i % 20 == 0:\n",
    "            print('[%d, %5d] loss: %.3f' % (epoch + 1, (i+1)*20, running_loss))\n",
    "            \n",
    "        running_loss = 0.0\n",
    "        \n",
    "        # we break the loop if all the images have been used\n",
    "        if (i > len_train_data):\n",
    "            break\n",
    "            \n",
    "    \n",
    "    # we evaluate our model precision on test_dataset\n",
    "    correct = 0\n",
    "    total = 0\n",
    "    net.eval()\n",
    "    with torch.no_grad():\n",
    "        net.eval()\n",
    "        for i, data in enumerate(test_loader):\n",
    "            images, labels = data[0].to(device), data[1].to(device)\n",
    "            outputs = net(images)\n",
    "            _, predicted = torch.max(outputs.data, 1)\n",
    "            total += labels.size(0)\n",
    "            correct += (predicted == labels).sum().item()\n",
    "            if (i > len_test_data):\n",
    "                break \n",
    "\n",
    "    print('Accuracy of the network on the %d test images: %d %%' % (total, 100 * correct / total))\n",
    "\n",
    "print('Finished Training')"
   ]
  },
  {
   "cell_type": "code",
   "execution_count": null,
   "id": "becoming-table",
   "metadata": {},
   "outputs": [],
   "source": [
    "# empty cuda if necesary\n",
    "# torch.cuda.empty_cache()"
   ]
  },
  {
   "cell_type": "code",
   "execution_count": null,
   "id": "strong-suicide",
   "metadata": {},
   "outputs": [],
   "source": []
  },
  {
   "cell_type": "code",
   "execution_count": null,
   "id": "logical-error",
   "metadata": {},
   "outputs": [],
   "source": []
  }
 ],
 "metadata": {
  "kernelspec": {
   "display_name": "Python 3",
   "language": "python",
   "name": "python3"
  },
  "language_info": {
   "codemirror_mode": {
    "name": "ipython",
    "version": 3
   },
   "file_extension": ".py",
   "mimetype": "text/x-python",
   "name": "python",
   "nbconvert_exporter": "python",
   "pygments_lexer": "ipython3",
   "version": "3.6.12"
  }
 },
 "nbformat": 4,
 "nbformat_minor": 5
}
